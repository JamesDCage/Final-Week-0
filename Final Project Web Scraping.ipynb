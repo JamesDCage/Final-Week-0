{
 "cells": [
  {
   "cell_type": "markdown",
   "metadata": {},
   "source": [
    "# Capstone Project Web Scraping\n",
    "James Cage, May 2019.\n",
    "\n",
    "For Cousera Applied Data Science Capstone Class.\n",
    "\n",
    "This notebook converts an online table of population by Georgia county to a pandas dataframe"
   ]
  },
  {
   "cell_type": "code",
   "execution_count": 30,
   "metadata": {},
   "outputs": [
    {
     "data": {
      "text/html": [
       "<div>\n",
       "<style scoped>\n",
       "    .dataframe tbody tr th:only-of-type {\n",
       "        vertical-align: middle;\n",
       "    }\n",
       "\n",
       "    .dataframe tbody tr th {\n",
       "        vertical-align: top;\n",
       "    }\n",
       "\n",
       "    .dataframe thead th {\n",
       "        text-align: right;\n",
       "    }\n",
       "</style>\n",
       "<table border=\"1\" class=\"dataframe\">\n",
       "  <thead>\n",
       "    <tr style=\"text-align: right;\">\n",
       "      <th></th>\n",
       "      <th>County</th>\n",
       "      <th>Total</th>\n",
       "      <th>Asian</th>\n",
       "      <th>Asian Percent</th>\n",
       "    </tr>\n",
       "  </thead>\n",
       "  <tbody>\n",
       "    <tr>\n",
       "      <th>66</th>\n",
       "      <td>Gwinnett</td>\n",
       "      <td>907135</td>\n",
       "      <td>107947</td>\n",
       "      <td>11.899772</td>\n",
       "    </tr>\n",
       "    <tr>\n",
       "      <th>59</th>\n",
       "      <td>Fulton</td>\n",
       "      <td>1023336</td>\n",
       "      <td>71301</td>\n",
       "      <td>6.967506</td>\n",
       "    </tr>\n",
       "    <tr>\n",
       "      <th>43</th>\n",
       "      <td>DeKalb</td>\n",
       "      <td>740321</td>\n",
       "      <td>47412</td>\n",
       "      <td>6.404249</td>\n",
       "    </tr>\n",
       "    <tr>\n",
       "      <th>32</th>\n",
       "      <td>Cobb</td>\n",
       "      <td>748150</td>\n",
       "      <td>39862</td>\n",
       "      <td>5.328076</td>\n",
       "    </tr>\n",
       "    <tr>\n",
       "      <th>57</th>\n",
       "      <td>Forsyth</td>\n",
       "      <td>221009</td>\n",
       "      <td>26484</td>\n",
       "      <td>11.983222</td>\n",
       "    </tr>\n",
       "    <tr>\n",
       "      <th>30</th>\n",
       "      <td>Clayton</td>\n",
       "      <td>279462</td>\n",
       "      <td>14786</td>\n",
       "      <td>5.290880</td>\n",
       "    </tr>\n",
       "    <tr>\n",
       "      <th>24</th>\n",
       "      <td>Chatham</td>\n",
       "      <td>289082</td>\n",
       "      <td>8334</td>\n",
       "      <td>2.882919</td>\n",
       "    </tr>\n",
       "    <tr>\n",
       "      <th>74</th>\n",
       "      <td>Henry</td>\n",
       "      <td>221768</td>\n",
       "      <td>7459</td>\n",
       "      <td>3.363425</td>\n",
       "    </tr>\n",
       "    <tr>\n",
       "      <th>35</th>\n",
       "      <td>Columbia</td>\n",
       "      <td>147450</td>\n",
       "      <td>6371</td>\n",
       "      <td>4.320787</td>\n",
       "    </tr>\n",
       "    <tr>\n",
       "      <th>28</th>\n",
       "      <td>Clarke</td>\n",
       "      <td>124707</td>\n",
       "      <td>5513</td>\n",
       "      <td>4.420762</td>\n",
       "    </tr>\n",
       "  </tbody>\n",
       "</table>\n",
       "</div>"
      ],
      "text/plain": [
       "      County    Total   Asian  Asian Percent\n",
       "66  Gwinnett   907135  107947      11.899772\n",
       "59    Fulton  1023336   71301       6.967506\n",
       "43    DeKalb   740321   47412       6.404249\n",
       "32      Cobb   748150   39862       5.328076\n",
       "57   Forsyth   221009   26484      11.983222\n",
       "30   Clayton   279462   14786       5.290880\n",
       "24   Chatham   289082    8334       2.882919\n",
       "74     Henry   221768    7459       3.363425\n",
       "35  Columbia   147450    6371       4.320787\n",
       "28    Clarke   124707    5513       4.420762"
      ]
     },
     "execution_count": 30,
     "metadata": {},
     "output_type": "execute_result"
    }
   ],
   "source": [
    "df_georgia.sort_values(by='Asian', ascending=False).head(10)"
   ]
  },
  {
   "cell_type": "code",
   "execution_count": 31,
   "metadata": {},
   "outputs": [
    {
     "name": "stdout",
     "output_type": "stream",
     "text": [
      "Libraries imported.\n"
     ]
    }
   ],
   "source": [
    "# Import necessary libraries\n",
    "import numpy as np # library to handle data in a vectorized manner\n",
    "\n",
    "import pandas as pd # library for data analsysis\n",
    "pd.set_option('display.max_columns', None)\n",
    "pd.set_option('display.max_rows', None)\n",
    "\n",
    "import json # library to handle JSON files\n",
    "\n",
    "# uncomment the following line to install geopy if needed\n",
    "#!conda install -c conda-forge geopy --yes\n",
    "from geopy.geocoders import Nominatim # convert an address into latitude and longitude values\n",
    "\n",
    "import requests # library to handle requests\n",
    "from pandas.io.json import json_normalize # tranform JSON file into a pandas dataframe\n",
    "\n",
    "# Matplotlib and associated plotting modules\n",
    "import matplotlib.cm as cm\n",
    "import matplotlib.colors as colors\n",
    "\n",
    "# import k-means from clustering stage\n",
    "from sklearn.cluster import KMeans\n",
    "\n",
    "#!conda install -c conda-forge folium=0.5.0 --yes # uncomment this line if you haven't completed the Foursquare API lab\n",
    "import folium # map rendering library\n",
    "\n",
    "import requests\n",
    "from bs4 import BeautifulSoup\n",
    "\n",
    "print('Libraries imported.')"
   ]
  },
  {
   "cell_type": "code",
   "execution_count": 14,
   "metadata": {},
   "outputs": [
    {
     "data": {
      "text/html": [
       "<div>\n",
       "<style scoped>\n",
       "    .dataframe tbody tr th:only-of-type {\n",
       "        vertical-align: middle;\n",
       "    }\n",
       "\n",
       "    .dataframe tbody tr th {\n",
       "        vertical-align: top;\n",
       "    }\n",
       "\n",
       "    .dataframe thead th {\n",
       "        text-align: right;\n",
       "    }\n",
       "</style>\n",
       "<table border=\"1\" class=\"dataframe\">\n",
       "  <thead>\n",
       "    <tr style=\"text-align: right;\">\n",
       "      <th></th>\n",
       "      <th>County</th>\n",
       "      <th>Total</th>\n",
       "      <th>White</th>\n",
       "      <th>African American</th>\n",
       "      <th>American Indian</th>\n",
       "      <th>Asian</th>\n",
       "      <th>Islander</th>\n",
       "      <th>Mixed</th>\n",
       "    </tr>\n",
       "  </thead>\n",
       "  <tbody>\n",
       "    <tr>\n",
       "      <th>0</th>\n",
       "      <td>Appling</td>\n",
       "      <td>18428</td>\n",
       "      <td>14318</td>\n",
       "      <td>3577</td>\n",
       "      <td>104</td>\n",
       "      <td>169</td>\n",
       "      <td>35</td>\n",
       "      <td>225</td>\n",
       "    </tr>\n",
       "    <tr>\n",
       "      <th>1</th>\n",
       "      <td>Atkinson</td>\n",
       "      <td>8273</td>\n",
       "      <td>6370</td>\n",
       "      <td>1450</td>\n",
       "      <td>113</td>\n",
       "      <td>78</td>\n",
       "      <td>91</td>\n",
       "      <td>171</td>\n",
       "    </tr>\n",
       "    <tr>\n",
       "      <th>2</th>\n",
       "      <td>Bacon</td>\n",
       "      <td>11372</td>\n",
       "      <td>9173</td>\n",
       "      <td>1886</td>\n",
       "      <td>39</td>\n",
       "      <td>70</td>\n",
       "      <td>22</td>\n",
       "      <td>182</td>\n",
       "    </tr>\n",
       "    <tr>\n",
       "      <th>3</th>\n",
       "      <td>Baker</td>\n",
       "      <td>3150</td>\n",
       "      <td>1619</td>\n",
       "      <td>1445</td>\n",
       "      <td>12</td>\n",
       "      <td>36</td>\n",
       "      <td>2</td>\n",
       "      <td>36</td>\n",
       "    </tr>\n",
       "    <tr>\n",
       "      <th>4</th>\n",
       "      <td>Baldwin</td>\n",
       "      <td>45144</td>\n",
       "      <td>24467</td>\n",
       "      <td>19142</td>\n",
       "      <td>155</td>\n",
       "      <td>800</td>\n",
       "      <td>31</td>\n",
       "      <td>549</td>\n",
       "    </tr>\n",
       "  </tbody>\n",
       "</table>\n",
       "</div>"
      ],
      "text/plain": [
       "     County  Total  White  African American  American Indian  Asian  Islander  \\\n",
       "0   Appling  18428  14318              3577              104    169        35   \n",
       "1  Atkinson   8273   6370              1450              113     78        91   \n",
       "2     Bacon  11372   9173              1886               39     70        22   \n",
       "3     Baker   3150   1619              1445               12     36         2   \n",
       "4   Baldwin  45144  24467             19142              155    800        31   \n",
       "\n",
       "   Mixed  \n",
       "0    225  \n",
       "1    171  \n",
       "2    182  \n",
       "3     36  \n",
       "4    549  "
      ]
     },
     "execution_count": 14,
     "metadata": {},
     "output_type": "execute_result"
    }
   ],
   "source": [
    "# Get data from Georgia Governor's website\n",
    "\n",
    "GA_demographics = \"https://opb.georgia.gov/sites/opb.georgia.gov/files/related_files/site_page/County%20Population%20by%20Race%202016.xlsx\"\n",
    "\n",
    "# Read the spreadsheet, skipping the first 3 rows\n",
    "df_georgia = pd.read_excel(GA_demographics, skiprows=range(2), skipfooter=2)\n",
    "\n",
    "# Assign column names\n",
    "df_georgia.columns = [\"County\", \"unused1\", \"Total\", \"unused2\", \"White\", \"African American\", \"American Indian\", \"Asian\", \"Islander\", \"Mixed\"]\n",
    "\n",
    "# Drop unused columns\n",
    "df_georgia.drop(['unused1','unused2'], axis=1, inplace=True)\n",
    "\n",
    "# Only include county name in 'County' column\n",
    "df_georgia['County'] = df_georgia['County'].str.split(\" County, Georgia\", n = 1, expand = True)\n",
    "\n",
    "df_georgia.head()"
   ]
  },
  {
   "cell_type": "code",
   "execution_count": 22,
   "metadata": {},
   "outputs": [],
   "source": [
    "# Drop columns not needed for this analysis\n",
    "\n",
    "df_georgia = df_georgia[['County', 'Total', 'Asian']]\n",
    "\n",
    "df_georgia['Asian Percent'] = 100 * df_georgia['Asian'] / df_georgia['Total']"
   ]
  },
  {
   "cell_type": "code",
   "execution_count": 40,
   "metadata": {},
   "outputs": [
    {
     "name": "stdout",
     "output_type": "stream",
     "text": [
      "Data downloaded!\n"
     ]
    }
   ],
   "source": [
    "!wget -q -O 'georgia.json' https://github.com/deldersveld/topojson/raw/master/countries/us-states/GA-13-georgia-counties.json\n",
    "print('Data downloaded!')\n",
    "with open('georgia.json') as json_data:\n",
    "    georgia_data = json.load(json_data)"
   ]
  },
  {
   "cell_type": "markdown",
   "metadata": {},
   "source": [
    "# Choropleth"
   ]
  },
  {
   "cell_type": "code",
   "execution_count": null,
   "metadata": {},
   "outputs": [],
   "source": []
  },
  {
   "cell_type": "code",
   "execution_count": 67,
   "metadata": {},
   "outputs": [
    {
     "data": {
      "text/html": [
       "<div style=\"width:100%;\"><div style=\"position:relative;width:100%;height:0;padding-bottom:60%;\"><iframe src=\"data:text/html;charset=utf-8;base64,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\" style=\"position:absolute;width:100%;height:100%;left:0;top:0;border:none !important;\" allowfullscreen webkitallowfullscreen mozallowfullscreen></iframe></div></div>"
      ],
      "text/plain": [
       "<folium.folium.Map at 0x7f53feb49c50>"
      ]
     },
     "execution_count": 67,
     "metadata": {},
     "output_type": "execute_result"
    }
   ],
   "source": [
    "georgia_geo = r'georgia.json'\n",
    "\n",
    "map_center = [32.837610, -83.483272]\n",
    "\n",
    "map_georgia = folium.Map(location=map_center, zoom_start=7)\n",
    "\n",
    "# create choropleth as a base layer. Use 'Latitude' as a proxy for groups (to be added later)\n",
    "map_georgia.choropleth(\n",
    "    geo_data=georgia_geo,\n",
    "    data=df_georgia,\n",
    "    columns=['County', 'Asian Percent'],\n",
    "    key_on='feature.properties.NAME',\n",
    "    # threshold_scale=threshold_scale,\n",
    "    fill_color='YlOrRd', \n",
    "    fill_opacity=0.4, \n",
    "    line_opacity=0.8,\n",
    "    legend_name='Asian Population by County in Georgia',\n",
    "    reset=True\n",
    ")\n",
    "\n",
    "map_georgia"
   ]
  },
  {
   "cell_type": "code",
   "execution_count": null,
   "metadata": {},
   "outputs": [],
   "source": []
  },
  {
   "cell_type": "code",
   "execution_count": null,
   "metadata": {},
   "outputs": [],
   "source": []
  },
  {
   "cell_type": "code",
   "execution_count": null,
   "metadata": {},
   "outputs": [],
   "source": []
  },
  {
   "cell_type": "code",
   "execution_count": null,
   "metadata": {},
   "outputs": [],
   "source": []
  },
  {
   "cell_type": "code",
   "execution_count": null,
   "metadata": {},
   "outputs": [],
   "source": []
  },
  {
   "cell_type": "code",
   "execution_count": null,
   "metadata": {},
   "outputs": [],
   "source": []
  },
  {
   "cell_type": "code",
   "execution_count": null,
   "metadata": {},
   "outputs": [],
   "source": []
  },
  {
   "cell_type": "code",
   "execution_count": 13,
   "metadata": {},
   "outputs": [
    {
     "name": "stdout",
     "output_type": "stream",
     "text": [
      "Shape: (160, 2)\n"
     ]
    },
    {
     "data": {
      "text/html": [
       "<div>\n",
       "<style scoped>\n",
       "    .dataframe tbody tr th:only-of-type {\n",
       "        vertical-align: middle;\n",
       "    }\n",
       "\n",
       "    .dataframe tbody tr th {\n",
       "        vertical-align: top;\n",
       "    }\n",
       "\n",
       "    .dataframe thead th {\n",
       "        text-align: right;\n",
       "    }\n",
       "</style>\n",
       "<table border=\"1\" class=\"dataframe\">\n",
       "  <thead>\n",
       "    <tr style=\"text-align: right;\">\n",
       "      <th></th>\n",
       "      <th>0</th>\n",
       "      <th>1</th>\n",
       "    </tr>\n",
       "  </thead>\n",
       "  <tbody>\n",
       "    <tr>\n",
       "      <th>0</th>\n",
       "      <td>County</td>\n",
       "      <td>Total Population</td>\n",
       "    </tr>\n",
       "    <tr>\n",
       "      <th>1</th>\n",
       "      <td>Fulton</td>\n",
       "      <td>977129</td>\n",
       "    </tr>\n",
       "    <tr>\n",
       "      <th>2</th>\n",
       "      <td>Gwinnett</td>\n",
       "      <td>840575</td>\n",
       "    </tr>\n",
       "    <tr>\n",
       "      <th>3</th>\n",
       "      <td>DeKalb</td>\n",
       "      <td>707401</td>\n",
       "    </tr>\n",
       "    <tr>\n",
       "      <th>4</th>\n",
       "      <td>Cobb</td>\n",
       "      <td>707277</td>\n",
       "    </tr>\n",
       "  </tbody>\n",
       "</table>\n",
       "</div>"
      ],
      "text/plain": [
       "          0                 1\n",
       "0    County  Total Population\n",
       "1    Fulton            977129\n",
       "2  Gwinnett            840575\n",
       "3    DeKalb            707401\n",
       "4      Cobb            707277"
      ]
     },
     "execution_count": 13,
     "metadata": {},
     "output_type": "execute_result"
    }
   ],
   "source": [
    "# Scrape web pages\n",
    "\n",
    "# List of sources\n",
    "\n",
    "GA_12 = (\"https://us-places.com/Georgia/population-by-County.htm\",\n",
    "         \"https://us-places.com/Georgia/asian-total-population-comparison.htm\",\n",
    "         \"https://us-places.com/Georgia/asian-percentage-population-comparison.htm\")\n",
    "GA_19 = \"http://worldpopulationreview.com/us-counties/ga/\"\n",
    "\n",
    "# Get HTML\n",
    "res = requests.get(GA_12)\n",
    "\n",
    "soup = BeautifulSoup(res.content)      # Can also use faster parser: BeautifulSoup(res.content,'lxml')\n",
    "table = soup.find_all('table')[1]      # Find the table on the page (usually 0 or 1)\n",
    "df_post = pd.read_html(str(table))[0]  # Convert the text representation of the table to a pandas dataframe\n",
    "\n",
    "print('Shape: ' + str(df_post.shape))   # This is not the final shape - reference only\n",
    "df_post.head(5)"
   ]
  },
  {
   "cell_type": "code",
   "execution_count": null,
   "metadata": {},
   "outputs": [],
   "source": []
  },
  {
   "cell_type": "code",
   "execution_count": 50,
   "metadata": {},
   "outputs": [
    {
     "name": "stdout",
     "output_type": "stream",
     "text": [
      "Shape: (211, 3)\n"
     ]
    },
    {
     "data": {
      "text/html": [
       "<div>\n",
       "<style scoped>\n",
       "    .dataframe tbody tr th:only-of-type {\n",
       "        vertical-align: middle;\n",
       "    }\n",
       "\n",
       "    .dataframe tbody tr th {\n",
       "        vertical-align: top;\n",
       "    }\n",
       "\n",
       "    .dataframe thead th {\n",
       "        text-align: right;\n",
       "    }\n",
       "</style>\n",
       "<table border=\"1\" class=\"dataframe\">\n",
       "  <thead>\n",
       "    <tr style=\"text-align: right;\">\n",
       "      <th></th>\n",
       "      <th>PostalCode</th>\n",
       "      <th>Borough</th>\n",
       "      <th>Neighborhood</th>\n",
       "    </tr>\n",
       "  </thead>\n",
       "  <tbody>\n",
       "    <tr>\n",
       "      <th>2</th>\n",
       "      <td>M3A</td>\n",
       "      <td>North York</td>\n",
       "      <td>Parkwoods</td>\n",
       "    </tr>\n",
       "    <tr>\n",
       "      <th>3</th>\n",
       "      <td>M4A</td>\n",
       "      <td>North York</td>\n",
       "      <td>Victoria Village</td>\n",
       "    </tr>\n",
       "  </tbody>\n",
       "</table>\n",
       "</div>"
      ],
      "text/plain": [
       "  PostalCode     Borough      Neighborhood\n",
       "2        M3A  North York         Parkwoods\n",
       "3        M4A  North York  Victoria Village"
      ]
     },
     "execution_count": 50,
     "metadata": {},
     "output_type": "execute_result"
    }
   ],
   "source": [
    "# Assign column names to match lab\n",
    "df_post.columns = ['PostalCode','Borough', 'Neighborhood'] \n",
    "\n",
    "# Get rid of rows that do not contain a borough\n",
    "df_post = df_post[df_post['Borough'] != 'Not assigned']\n",
    "\n",
    "print('Shape: ' + str(df_post.shape))   # This is not the final shape - reference only\n",
    "df_post.head(2)"
   ]
  },
  {
   "cell_type": "code",
   "execution_count": null,
   "metadata": {},
   "outputs": [],
   "source": []
  },
  {
   "cell_type": "code",
   "execution_count": null,
   "metadata": {},
   "outputs": [],
   "source": []
  },
  {
   "cell_type": "code",
   "execution_count": null,
   "metadata": {},
   "outputs": [],
   "source": []
  },
  {
   "cell_type": "code",
   "execution_count": null,
   "metadata": {},
   "outputs": [],
   "source": []
  },
  {
   "cell_type": "code",
   "execution_count": null,
   "metadata": {},
   "outputs": [],
   "source": []
  },
  {
   "cell_type": "code",
   "execution_count": null,
   "metadata": {},
   "outputs": [],
   "source": []
  },
  {
   "cell_type": "code",
   "execution_count": null,
   "metadata": {},
   "outputs": [],
   "source": []
  },
  {
   "cell_type": "code",
   "execution_count": null,
   "metadata": {},
   "outputs": [],
   "source": []
  },
  {
   "cell_type": "code",
   "execution_count": null,
   "metadata": {},
   "outputs": [],
   "source": []
  },
  {
   "cell_type": "code",
   "execution_count": null,
   "metadata": {},
   "outputs": [],
   "source": []
  },
  {
   "cell_type": "code",
   "execution_count": null,
   "metadata": {},
   "outputs": [],
   "source": []
  },
  {
   "cell_type": "code",
   "execution_count": 56,
   "metadata": {},
   "outputs": [
    {
     "name": "stdout",
     "output_type": "stream",
     "text": [
      "103\n"
     ]
    },
    {
     "data": {
      "text/html": [
       "<div>\n",
       "<style scoped>\n",
       "    .dataframe tbody tr th:only-of-type {\n",
       "        vertical-align: middle;\n",
       "    }\n",
       "\n",
       "    .dataframe tbody tr th {\n",
       "        vertical-align: top;\n",
       "    }\n",
       "\n",
       "    .dataframe thead th {\n",
       "        text-align: right;\n",
       "    }\n",
       "</style>\n",
       "<table border=\"1\" class=\"dataframe\">\n",
       "  <thead>\n",
       "    <tr style=\"text-align: right;\">\n",
       "      <th></th>\n",
       "      <th>PostalCode</th>\n",
       "      <th>Borough</th>\n",
       "      <th>Neighborhood</th>\n",
       "    </tr>\n",
       "  </thead>\n",
       "  <tbody>\n",
       "    <tr>\n",
       "      <th>8</th>\n",
       "      <td>M7A</td>\n",
       "      <td>Queen's Park</td>\n",
       "      <td>Queen's Park</td>\n",
       "    </tr>\n",
       "  </tbody>\n",
       "</table>\n",
       "</div>"
      ],
      "text/plain": [
       "  PostalCode       Borough  Neighborhood\n",
       "8        M7A  Queen's Park  Queen's Park"
      ]
     },
     "execution_count": 56,
     "metadata": {},
     "output_type": "execute_result"
    }
   ],
   "source": [
    "# Create a set of all unique Postcode / Borough combinations\n",
    "# Use a set to eliminate any duplicates\n",
    "\n",
    "area_set = set()\n",
    "for i, row in df_post.iterrows():\n",
    "    \n",
    "    # While we are here, fix the case where the borough is assigned but the neighborhood is not\n",
    "    if row['Borough'] != 'Not assigned' and row['Neighborhood'] == 'Not assigned':\n",
    "        row['Neighborhood'] = row['Borough']\n",
    "        \n",
    "    # Now add the PostalCode / Borough combination to the set\n",
    "    area_set.add((row['PostalCode'], row['Borough']))\n",
    "\n",
    "print(len(area_set))   # The number of unique pairs of post codes and assigned boroughs \n",
    "df_post[(df_post['PostalCode'] == 'M7A') & (df_post['Borough'] == \"Queen's Park\")]   # Check to be sure \"Not Assigned\" neighborhood is fixed"
   ]
  },
  {
   "cell_type": "code",
   "execution_count": 52,
   "metadata": {},
   "outputs": [
    {
     "data": {
      "text/html": [
       "<div>\n",
       "<style scoped>\n",
       "    .dataframe tbody tr th:only-of-type {\n",
       "        vertical-align: middle;\n",
       "    }\n",
       "\n",
       "    .dataframe tbody tr th {\n",
       "        vertical-align: top;\n",
       "    }\n",
       "\n",
       "    .dataframe thead th {\n",
       "        text-align: right;\n",
       "    }\n",
       "</style>\n",
       "<table border=\"1\" class=\"dataframe\">\n",
       "  <thead>\n",
       "    <tr style=\"text-align: right;\">\n",
       "      <th></th>\n",
       "      <th>PostalCode</th>\n",
       "      <th>Borough</th>\n",
       "      <th>Neighborhood</th>\n",
       "    </tr>\n",
       "  </thead>\n",
       "  <tbody>\n",
       "    <tr>\n",
       "      <th>0</th>\n",
       "      <td>M5R</td>\n",
       "      <td>Central Toronto</td>\n",
       "      <td>The Annex, North Midtown, Yorkville</td>\n",
       "    </tr>\n",
       "    <tr>\n",
       "      <th>0</th>\n",
       "      <td>M6G</td>\n",
       "      <td>Downtown Toronto</td>\n",
       "      <td>Christie</td>\n",
       "    </tr>\n",
       "    <tr>\n",
       "      <th>0</th>\n",
       "      <td>M5K</td>\n",
       "      <td>Downtown Toronto</td>\n",
       "      <td>Design Exchange, Toronto Dominion Centre</td>\n",
       "    </tr>\n",
       "    <tr>\n",
       "      <th>0</th>\n",
       "      <td>M6M</td>\n",
       "      <td>York</td>\n",
       "      <td>Del Ray, Keelesdale, Mount Dennis, Silverthorn</td>\n",
       "    </tr>\n",
       "    <tr>\n",
       "      <th>0</th>\n",
       "      <td>M5B</td>\n",
       "      <td>Downtown Toronto</td>\n",
       "      <td>Ryerson, Garden District</td>\n",
       "    </tr>\n",
       "    <tr>\n",
       "      <th>0</th>\n",
       "      <td>M9V</td>\n",
       "      <td>Etobicoke</td>\n",
       "      <td>Albion Gardens, Beaumond Heights, Humbergate, ...</td>\n",
       "    </tr>\n",
       "    <tr>\n",
       "      <th>0</th>\n",
       "      <td>M3B</td>\n",
       "      <td>North York</td>\n",
       "      <td>Don Mills North</td>\n",
       "    </tr>\n",
       "    <tr>\n",
       "      <th>0</th>\n",
       "      <td>M9A</td>\n",
       "      <td>Etobicoke</td>\n",
       "      <td>Islington Avenue</td>\n",
       "    </tr>\n",
       "    <tr>\n",
       "      <th>0</th>\n",
       "      <td>M8X</td>\n",
       "      <td>Etobicoke</td>\n",
       "      <td>The Kingsway, Montgomery Road, Old Mill North</td>\n",
       "    </tr>\n",
       "    <tr>\n",
       "      <th>0</th>\n",
       "      <td>M4Y</td>\n",
       "      <td>Downtown Toronto</td>\n",
       "      <td>Church and Wellesley</td>\n",
       "    </tr>\n",
       "  </tbody>\n",
       "</table>\n",
       "</div>"
      ],
      "text/plain": [
       "  PostalCode           Borough  \\\n",
       "0        M5R   Central Toronto   \n",
       "0        M6G  Downtown Toronto   \n",
       "0        M5K  Downtown Toronto   \n",
       "0        M6M              York   \n",
       "0        M5B  Downtown Toronto   \n",
       "0        M9V         Etobicoke   \n",
       "0        M3B        North York   \n",
       "0        M9A         Etobicoke   \n",
       "0        M8X         Etobicoke   \n",
       "0        M4Y  Downtown Toronto   \n",
       "\n",
       "                                        Neighborhood  \n",
       "0                The Annex, North Midtown, Yorkville  \n",
       "0                                           Christie  \n",
       "0           Design Exchange, Toronto Dominion Centre  \n",
       "0     Del Ray, Keelesdale, Mount Dennis, Silverthorn  \n",
       "0                           Ryerson, Garden District  \n",
       "0  Albion Gardens, Beaumond Heights, Humbergate, ...  \n",
       "0                                    Don Mills North  \n",
       "0                                   Islington Avenue  \n",
       "0      The Kingsway, Montgomery Road, Old Mill North  \n",
       "0                               Church and Wellesley  "
      ]
     },
     "execution_count": 52,
     "metadata": {},
     "output_type": "execute_result"
    }
   ],
   "source": [
    "# Create a blank dataframe to hold the results\n",
    "df_toronto = pd.DataFrame(columns=df_post.columns)\n",
    "\n",
    "# Iterate through the set to fill in new dataframe\n",
    "for i in area_set:\n",
    "    bacon_zip_code, village = i[0], i[1]\n",
    "    hoods = ', '.join(list(df_post[(df_post['PostalCode'] == bacon_zip_code) & (df_post['Borough'] == village)]['Neighborhood']))\n",
    "    row_dict = {'PostalCode': [bacon_zip_code],\n",
    "                'Borough': [village],\n",
    "                'Neighborhood': [hoods]}\n",
    "    a_row = pd.DataFrame.from_dict(row_dict)\n",
    "    df_toronto = df_toronto.append(a_row)    \n",
    "    \n",
    "df_toronto.head(10)"
   ]
  },
  {
   "cell_type": "code",
   "execution_count": 60,
   "metadata": {},
   "outputs": [],
   "source": [
    "# Save as CSV for use in next notebook\n",
    "with open ('df_toronto.csv', 'w') as f:\n",
    "    f.write(df_toronto.sort_values(by=['PostalCode']).to_csv(index=False))"
   ]
  },
  {
   "cell_type": "code",
   "execution_count": 53,
   "metadata": {},
   "outputs": [
    {
     "data": {
      "text/plain": [
       "(103, 3)"
      ]
     },
     "execution_count": 53,
     "metadata": {},
     "output_type": "execute_result"
    }
   ],
   "source": [
    "# Confirm the size of the resulting dataframe\n",
    "df_toronto.shape"
   ]
  }
 ],
 "metadata": {
  "kernelspec": {
   "display_name": "Python 3",
   "language": "python",
   "name": "python3"
  },
  "language_info": {
   "codemirror_mode": {
    "name": "ipython",
    "version": 3
   },
   "file_extension": ".py",
   "mimetype": "text/x-python",
   "name": "python",
   "nbconvert_exporter": "python",
   "pygments_lexer": "ipython3",
   "version": "3.6.8"
  }
 },
 "nbformat": 4,
 "nbformat_minor": 2
}
